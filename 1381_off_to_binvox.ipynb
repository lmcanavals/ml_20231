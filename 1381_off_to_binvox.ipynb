{
  "nbformat": 4,
  "nbformat_minor": 0,
  "metadata": {
    "colab": {
      "provenance": [],
      "authorship_tag": "ABX9TyN7fmy/EvTJX5pg8KwNsB5a",
      "include_colab_link": true
    },
    "kernelspec": {
      "name": "python3",
      "display_name": "Python 3"
    },
    "language_info": {
      "name": "python"
    }
  },
  "cells": [
    {
      "cell_type": "markdown",
      "metadata": {
        "id": "view-in-github",
        "colab_type": "text"
      },
      "source": [
        "<a href=\"https://colab.research.google.com/github/lmcanavals/ml/blob/main/1381_off_to_binvox.ipynb\" target=\"_parent\"><img src=\"https://colab.research.google.com/assets/colab-badge.svg\" alt=\"Open In Colab\"/></a>"
      ]
    },
    {
      "cell_type": "markdown",
      "source": [
        "# Nota\n",
        "Correr estos scripts localmente, en windows use WSL y listo..."
      ],
      "metadata": {
        "id": "ctxsnrpOBfFI"
      }
    },
    {
      "cell_type": "code",
      "execution_count": 6,
      "metadata": {
        "colab": {
          "base_uri": "https://localhost:8080/"
        },
        "id": "mhpmH0xvsZOI",
        "outputId": "e7fd62f9-f489-47c4-8801-033a14df1374"
      },
      "outputs": [
        {
          "output_type": "stream",
          "name": "stdout",
          "text": [
            "2.2G\tModelNet10\n",
            "total 44\n",
            "drwxr-xr-x 4 root root 4096 Aug 21  2014 bathtub\n",
            "drwxr-xr-x 4 root root 4096 Aug 21  2014 bed\n",
            "drwxr-xr-x 4 root root 4096 Aug 21  2014 chair\n",
            "drwxr-xr-x 4 root root 4096 Aug 21  2014 desk\n",
            "drwxr-xr-x 4 root root 4096 Aug 21  2014 dresser\n",
            "drwxr-xr-x 4 root root 4096 Aug 21  2014 monitor\n",
            "drwxr-xr-x 4 root root 4096 Aug 21  2014 night_stand\n",
            "-rw-r--r-- 1 root root  768 Aug 21  2014 README.txt\n",
            "drwxr-xr-x 4 root root 4096 Aug 21  2014 sofa\n",
            "drwxr-xr-x 4 root root 4096 Aug 21  2014 table\n",
            "drwxr-xr-x 4 root root 4096 Aug 21  2014 toilet\n"
          ]
        }
      ],
      "source": [
        "%%bash\n",
        "curl -O https://3dvision.princeton.edu/projects/2014/3DShapeNets/ModelNet10.zip\n",
        "unzip -q ModelNet10.zip 1> /dev/null\n",
        "du -sh ModelNet10\n",
        "ls -l ModelNet10"
      ]
    },
    {
      "cell_type": "code",
      "source": [
        "%%bash\n",
        "curl -O https://raw.githubusercontent.com/ChristianEspirituCueva/ML_RestorationGAN/main/binvox\n",
        "chmod +x binvox"
      ],
      "metadata": {
        "colab": {
          "base_uri": "https://localhost:8080/"
        },
        "id": "495Cozm81OI-",
        "outputId": "8ff4ecb2-e61e-453b-94ac-da6e2d3d9c8d"
      },
      "execution_count": 33,
      "outputs": [
        {
          "output_type": "stream",
          "name": "stderr",
          "text": [
            "  % Total    % Received % Xferd  Average Speed   Time    Time     Time  Current\n",
            "                                 Dload  Upload   Total   Spent    Left  Speed\n",
            "\r  0     0    0     0    0     0      0      0 --:--:-- --:--:-- --:--:--     0\r100 1487k  100 1487k    0     0  14.5M      0 --:--:-- --:--:-- --:--:-- 14.6M\n"
          ]
        }
      ]
    },
    {
      "cell_type": "code",
      "source": [
        "%%bash\n",
        "mkdir -p test\n",
        "mkdir -p train\n",
        "cd train\n",
        "for directory in ../ModelNet10/*; do\n",
        "    if [[ -d $directory ]]; then\n",
        "        for f in $directory/train/*; do\n",
        "            mv $f .\n",
        "        done\n",
        "    fi\n",
        "done\n",
        "\n",
        "cd ../test\n",
        "for directory in ../ModelNet10/*; do\n",
        "    if [[ -d $directory ]]; then\n",
        "        for f in $directory/test/*; do\n",
        "            mv $f .\n",
        "        done\n",
        "    fi\n",
        "done"
      ],
      "metadata": {
        "id": "akULTPKL2u5u"
      },
      "execution_count": 53,
      "outputs": []
    },
    {
      "cell_type": "code",
      "source": [
        "%%bash\n",
        "cd test\n",
        "for f in *; do\n",
        "    ../binvox -pb -d 32 $f &> /dev/null\n",
        "done\n",
        "cd train\n",
        "for f in *; do\n",
        "    ../binvox -pb -d 32 $f &> /dev/null\n",
        "done"
      ],
      "metadata": {
        "colab": {
          "base_uri": "https://localhost:8080/"
        },
        "id": "5EvNVgWz8OYe",
        "outputId": "77bc9561-097d-4ad9-a661-10732095a3fc"
      },
      "execution_count": 56,
      "outputs": [
        {
          "output_type": "stream",
          "name": "stdout",
          "text": [
            "Process is interrupted.\n"
          ]
        }
      ]
    },
    {
      "cell_type": "code",
      "source": [],
      "metadata": {
        "id": "BlIdVWy79VZX"
      },
      "execution_count": null,
      "outputs": []
    }
  ]
}