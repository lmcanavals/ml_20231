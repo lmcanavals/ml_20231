{
  "nbformat": 4,
  "nbformat_minor": 0,
  "metadata": {
    "colab": {
      "provenance": [],
      "authorship_tag": "ABX9TyOKrPKuLQQqJjeHg34ryFl5",
      "include_colab_link": true
    },
    "kernelspec": {
      "name": "python3",
      "display_name": "Python 3"
    },
    "language_info": {
      "name": "python"
    }
  },
  "cells": [
    {
      "cell_type": "markdown",
      "metadata": {
        "id": "view-in-github",
        "colab_type": "text"
      },
      "source": [
        "<a href=\"https://colab.research.google.com/github/lmcanavals/ml/blob/main/1101_calc_params_dimensions_CNN.ipynb\" target=\"_parent\"><img src=\"https://colab.research.google.com/assets/colab-badge.svg\" alt=\"Open In Colab\"/></a>"
      ]
    },
    {
      "cell_type": "code",
      "execution_count": 26,
      "metadata": {
        "id": "Y5qrlmqx9z-B"
      },
      "outputs": [],
      "source": [
        "def calc(inputDim, convLayers, denseLayers):\n",
        "    rows, cols, channels = inputDim\n",
        "    total = 0\n",
        "    for krows, kcols, neurons, prows, pcols in convLayers:\n",
        "        params = neurons * krows * kcols * channels\n",
        "        rows, cols, channels = rows - krows + 1, cols - kcols + 1, neurons\n",
        "        total += params\n",
        "        print(\"params:  \", params)\n",
        "        print(\"conv res\", rows, cols, channels)\n",
        "        rows, cols = rows // prows, cols // pcols\n",
        "        print(\"pooling \", rows, cols, channels)\n",
        "    flat = rows * cols * channels\n",
        "    for nden in denseLayers:\n",
        "        print(\"flat: \", flat)\n",
        "        params = flat * nden + nden\n",
        "        print(\"params: \", params)\n",
        "        total += params\n",
        "        flat = nden\n",
        "    \n",
        "\n",
        "    print(total)"
      ]
    },
    {
      "cell_type": "code",
      "source": [
        "calc((28, 28, 1),\n",
        "     [(5, 5, 64, 2, 2),\n",
        "      (5, 5, 32, 2, 2)],\n",
        "     [128, 10])"
      ],
      "metadata": {
        "colab": {
          "base_uri": "https://localhost:8080/"
        },
        "id": "Dm9VKRnI93bS",
        "outputId": "de2161f7-0552-4e77-8347-0c4aa9c4ba5c"
      },
      "execution_count": 27,
      "outputs": [
        {
          "output_type": "stream",
          "name": "stdout",
          "text": [
            "params:   1600\n",
            "conv res 24 24 64\n",
            "pooling  12 12 64\n",
            "params:   51200\n",
            "conv res 8 8 32\n",
            "pooling  4 4 32\n",
            "flat:  512\n",
            "params:  65664\n",
            "flat:  128\n",
            "params:  1290\n",
            "119754\n"
          ]
        }
      ]
    },
    {
      "cell_type": "code",
      "source": [],
      "metadata": {
        "id": "6NC0Q_kZE6bu"
      },
      "execution_count": null,
      "outputs": []
    }
  ]
}