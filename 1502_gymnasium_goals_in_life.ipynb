{
  "nbformat": 4,
  "nbformat_minor": 0,
  "metadata": {
    "colab": {
      "provenance": [],
      "authorship_tag": "ABX9TyNLK7ytilX6OPLv+4IFzZyk",
      "include_colab_link": true
    },
    "kernelspec": {
      "name": "python3",
      "display_name": "Python 3"
    },
    "language_info": {
      "name": "python"
    }
  },
  "cells": [
    {
      "cell_type": "markdown",
      "metadata": {
        "id": "view-in-github",
        "colab_type": "text"
      },
      "source": [
        "<a href=\"https://colab.research.google.com/github/lmcanavals/ml/blob/main/1502_gymnasium_goals_in_life.ipynb\" target=\"_parent\"><img src=\"https://colab.research.google.com/assets/colab-badge.svg\" alt=\"Open In Colab\"/></a>"
      ]
    },
    {
      "cell_type": "code",
      "source": [
        "!sudo apt install swig"
      ],
      "metadata": {
        "id": "GcUZJIPYFmxm"
      },
      "execution_count": null,
      "outputs": []
    },
    {
      "cell_type": "code",
      "execution_count": null,
      "metadata": {
        "id": "iVm27PbUAKFt"
      },
      "outputs": [],
      "source": [
        "!pip install gymnasium[box2d]\n",
        "!pip install gymnasium[atari]"
      ]
    },
    {
      "cell_type": "code",
      "source": [
        "!pip install pyvirtualdisplay\n",
        "!apt-get install -y xvfb python-opengl ffmpeg"
      ],
      "metadata": {
        "id": "_n5QUwrgIRrm"
      },
      "execution_count": null,
      "outputs": []
    },
    {
      "cell_type": "code",
      "source": [
        "import gymnasium as gym\n",
        "from gymnasium.wrappers.record_video import RecordVideo\n",
        "import glob\n",
        "import io\n",
        "import base64\n",
        "from IPython.display import HTML\n",
        "from pyvirtualdisplay import Display\n",
        "from IPython import display as ipythondisplay"
      ],
      "metadata": {
        "id": "MiRJYMI9BwdG"
      },
      "execution_count": 4,
      "outputs": []
    },
    {
      "cell_type": "code",
      "source": [
        "display = Display(visible=0, size=(1400, 900))\n",
        "display.start()\n",
        "\n",
        "def show_video():\n",
        "    mp4list = glob.glob('video/*.mp4')\n",
        "    if len(mp4list) > 0:\n",
        "        mp4 = mp4list[0]\n",
        "        video = io.open(mp4, \"r+b\").read()\n",
        "        encoded = base64.b64encode(video)\n",
        "        ipythondisplay.display(HTML(data=f\"\"\"<video alt=\"test\" autoplay\n",
        "        loop controls style=\"height: 400px\">\n",
        "        <source src=\"data:video/mp4;base64,{encoded.decode('ascii')}\"\n",
        "        type=\"video/mp4\" />\n",
        "        </video>\"\"\"))\n",
        "    else:\n",
        "        print(\"No video\")\n",
        "\n",
        "def wrap_env(env):\n",
        "    env = RecordVideo(env, \"./video\")\n",
        "    return env"
      ],
      "metadata": {
        "id": "Y6GBhqVGJ7Yv"
      },
      "execution_count": 22,
      "outputs": []
    },
    {
      "cell_type": "code",
      "source": [
        "env = wrap_env(gym.make(\"LunarLander-v2\", render_mode=\"rgb_array\"))\n",
        "observation, info = env.reset(seed=42)\n",
        "for _ in range(1000):\n",
        "    action = env.action_space.sample()\n",
        "    observation, reward, terminated, truncated, info = env.step(action)\n",
        "    if terminated or truncated:\n",
        "        ovservation, info = env.reset()\n",
        "env.close()"
      ],
      "metadata": {
        "id": "biYLu7TjA67-",
        "colab": {
          "base_uri": "https://localhost:8080/"
        },
        "outputId": "f520b39a-d875-40c0-ab7f-c1d5183cf885"
      },
      "execution_count": 25,
      "outputs": [
        {
          "output_type": "stream",
          "name": "stdout",
          "text": [
            "Moviepy - Building video /content/video/rl-video-episode-0.mp4.\n",
            "Moviepy - Writing video /content/video/rl-video-episode-0.mp4\n",
            "\n"
          ]
        },
        {
          "output_type": "stream",
          "name": "stderr",
          "text": [
            "                                                   "
          ]
        },
        {
          "output_type": "stream",
          "name": "stdout",
          "text": [
            "Moviepy - Done !\n",
            "Moviepy - video ready /content/video/rl-video-episode-0.mp4\n"
          ]
        },
        {
          "output_type": "stream",
          "name": "stderr",
          "text": [
            "\r"
          ]
        },
        {
          "output_type": "stream",
          "name": "stdout",
          "text": [
            "Moviepy - Building video /content/video/rl-video-episode-1.mp4.\n",
            "Moviepy - Writing video /content/video/rl-video-episode-1.mp4\n",
            "\n"
          ]
        },
        {
          "output_type": "stream",
          "name": "stderr",
          "text": []
        },
        {
          "output_type": "stream",
          "name": "stdout",
          "text": [
            "Moviepy - Done !\n",
            "Moviepy - video ready /content/video/rl-video-episode-1.mp4\n",
            "Moviepy - Building video /content/video/rl-video-episode-8.mp4.\n",
            "Moviepy - Writing video /content/video/rl-video-episode-8.mp4\n",
            "\n"
          ]
        },
        {
          "output_type": "stream",
          "name": "stderr",
          "text": []
        },
        {
          "output_type": "stream",
          "name": "stdout",
          "text": [
            "Moviepy - Done !\n",
            "Moviepy - video ready /content/video/rl-video-episode-8.mp4\n",
            "Moviepy - Building video /content/video/rl-video-episode-27.mp4.\n",
            "Moviepy - Writing video /content/video/rl-video-episode-27.mp4\n",
            "\n"
          ]
        },
        {
          "output_type": "stream",
          "name": "stderr",
          "text": [
            "                                                   "
          ]
        },
        {
          "output_type": "stream",
          "name": "stdout",
          "text": [
            "Moviepy - Done !\n",
            "Moviepy - video ready /content/video/rl-video-episode-27.mp4\n"
          ]
        },
        {
          "output_type": "stream",
          "name": "stderr",
          "text": [
            "\r"
          ]
        }
      ]
    },
    {
      "cell_type": "code",
      "source": [
        "show_video()"
      ],
      "metadata": {
        "id": "3bZ0SJNfMG3q"
      },
      "execution_count": null,
      "outputs": []
    },
    {
      "cell_type": "code",
      "source": [
        "!rm -rf ./video/*"
      ],
      "metadata": {
        "id": "3wNDJhXK02id"
      },
      "execution_count": 51,
      "outputs": []
    },
    {
      "cell_type": "code",
      "source": [
        "env = wrap_env(gym.make(\"CartPole-v1\", render_mode=\"rgb_array\"))\n",
        "observation, info = env.reset(seed=42)\n",
        "action = env.action_space.sample()\n",
        "print(type(action), action)"
      ],
      "metadata": {
        "colab": {
          "base_uri": "https://localhost:8080/"
        },
        "id": "3IMknNMcvm6n",
        "outputId": "3d165a0a-f70c-48e7-d442-cd25158ed90c"
      },
      "execution_count": 52,
      "outputs": [
        {
          "output_type": "stream",
          "name": "stdout",
          "text": [
            "<class 'numpy.int64'> 1\n"
          ]
        }
      ]
    },
    {
      "cell_type": "code",
      "source": [
        "observation, reward, terminated, truncated, info = env.step(action)\n",
        "print(type(observation), observation)"
      ],
      "metadata": {
        "colab": {
          "base_uri": "https://localhost:8080/"
        },
        "id": "sXdLCixC1I6w",
        "outputId": "ccf6469e-312f-4aa1-a055-9f6e7db9001e"
      },
      "execution_count": 53,
      "outputs": [
        {
          "output_type": "stream",
          "name": "stdout",
          "text": [
            "<class 'numpy.ndarray'> [ 0.02727336  0.18847767  0.03625453 -0.26141977]\n"
          ]
        }
      ]
    },
    {
      "cell_type": "code",
      "source": [
        "env.close()"
      ],
      "metadata": {
        "colab": {
          "base_uri": "https://localhost:8080/"
        },
        "id": "oO684qaF15do",
        "outputId": "a8e1b94c-c2a1-4d44-be0a-9195e8e593de"
      },
      "execution_count": 54,
      "outputs": [
        {
          "output_type": "stream",
          "name": "stdout",
          "text": [
            "Moviepy - Building video /content/video/rl-video-episode-0.mp4.\n",
            "Moviepy - Writing video /content/video/rl-video-episode-0.mp4\n",
            "\n"
          ]
        },
        {
          "output_type": "stream",
          "name": "stderr",
          "text": [
            "                                                  "
          ]
        },
        {
          "output_type": "stream",
          "name": "stdout",
          "text": [
            "Moviepy - Done !\n",
            "Moviepy - video ready /content/video/rl-video-episode-0.mp4\n"
          ]
        },
        {
          "output_type": "stream",
          "name": "stderr",
          "text": [
            "\r"
          ]
        }
      ]
    },
    {
      "cell_type": "code",
      "source": [
        "env = wrap_env(gym.make(\"LunarLander-v2\", render_mode=\"rgb_array\"))\n",
        "observation, info = env.reset(seed=42)\n",
        "for i in range(1000):\n",
        "    action = (i+1) % 4\n",
        "    observation, reward, terminated, truncated, info = env.step(action)\n",
        "    if terminated or truncated:\n",
        "        ovservation, info = env.reset()\n",
        "env.close()\n",
        "print(reward)"
      ],
      "metadata": {
        "colab": {
          "base_uri": "https://localhost:8080/"
        },
        "id": "txMLNu9l20-a",
        "outputId": "528f6738-fa8f-49cb-fcc5-8889beb4deea"
      },
      "execution_count": 64,
      "outputs": [
        {
          "output_type": "stream",
          "name": "stdout",
          "text": [
            "Moviepy - Building video /content/video/rl-video-episode-0.mp4.\n",
            "Moviepy - Writing video /content/video/rl-video-episode-0.mp4\n",
            "\n"
          ]
        },
        {
          "output_type": "stream",
          "name": "stderr",
          "text": []
        },
        {
          "output_type": "stream",
          "name": "stdout",
          "text": [
            "Moviepy - Done !\n",
            "Moviepy - video ready /content/video/rl-video-episode-0.mp4\n",
            "Moviepy - Building video /content/video/rl-video-episode-1.mp4.\n",
            "Moviepy - Writing video /content/video/rl-video-episode-1.mp4\n",
            "\n"
          ]
        },
        {
          "output_type": "stream",
          "name": "stderr",
          "text": []
        },
        {
          "output_type": "stream",
          "name": "stdout",
          "text": [
            "Moviepy - Done !\n",
            "Moviepy - video ready /content/video/rl-video-episode-1.mp4\n",
            "Moviepy - Building video /content/video/rl-video-episode-8.mp4.\n",
            "Moviepy - Writing video /content/video/rl-video-episode-8.mp4\n",
            "\n"
          ]
        },
        {
          "output_type": "stream",
          "name": "stderr",
          "text": []
        },
        {
          "output_type": "stream",
          "name": "stdout",
          "text": [
            "Moviepy - Done !\n",
            "Moviepy - video ready /content/video/rl-video-episode-8.mp4\n",
            "-0.5938062620602977\n"
          ]
        }
      ]
    },
    {
      "cell_type": "code",
      "source": [
        "show_video()"
      ],
      "metadata": {
        "colab": {
          "base_uri": "https://localhost:8080/",
          "height": 421
        },
        "id": "zr7gQocO01eR",
        "outputId": "d4ab7861-4267-4098-e496-c0f6e5126ef5"
      },
      "execution_count": 66,
      "outputs": [
        {
          "output_type": "display_data",
          "data": {
            "text/plain": [
              "<IPython.core.display.HTML object>"
            ],
            "text/html": [
              "<video alt=\"test\" autoplay\n",
              "        loop controls style=\"height: 400px\">\n",
              "        <source src=\"data:video/mp4;base64,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\"\n",
              "        type=\"video/mp4\" />\n",
              "        </video>"
            ]
          },
          "metadata": {}
        }
      ]
    },
    {
      "cell_type": "code",
      "source": [],
      "metadata": {
        "id": "jXaayCnd3KaM"
      },
      "execution_count": null,
      "outputs": []
    }
  ]
}