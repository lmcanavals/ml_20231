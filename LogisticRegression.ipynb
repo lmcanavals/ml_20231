{
 "cells": [
  {
   "cell_type": "code",
   "execution_count": 1,
   "id": "e8a36a40-8420-40b1-b1c7-43d575f52652",
   "metadata": {},
   "outputs": [],
   "source": [
    "from sklearn.datasets import load_iris\n",
    "from sklearn.model_selection import train_test_split\n",
    "from sklearn.linear_model import LogisticRegression"
   ]
  },
  {
   "cell_type": "code",
   "execution_count": 2,
   "id": "f4b46227-c7ca-484e-9c04-5ebb157cf0f4",
   "metadata": {},
   "outputs": [],
   "source": [
    "iris = load_iris()\n",
    "\n",
    "X = iris.data\n",
    "y = iris.target\n",
    "\n",
    "X_train, X_test, y_train, y_test = train_test_split(X, y, test_size=0.4, random_state=0)"
   ]
  },
  {
   "cell_type": "code",
   "execution_count": 6,
   "id": "123e8b83-24f5-4b31-8ceb-cfb5c09dd6f1",
   "metadata": {},
   "outputs": [
    {
     "name": "stdout",
     "output_type": "stream",
     "text": [
      "[2 1 0 2 0 2 0 1 1 1 2 1 1 1 1 0 1 1 0 0 2 1 0 0 1 0 0 1 1 0 2 1 0 2 2 1 0\n",
      " 2 1 1 2 0 2 0 0 1 2 2 1 2 1 2 1 1 2 1 1 2 1 2]\n",
      "[ True  True  True  True  True  True  True  True  True  True  True  True\n",
      "  True  True  True  True  True  True  True  True  True  True  True  True\n",
      " False  True  True  True  True  True  True  True  True  True  True  True\n",
      "  True False  True  True  True  True  True  True  True  True  True  True\n",
      " False  True  True  True  True  True  True False False  True  True  True]\n"
     ]
    }
   ],
   "source": [
    "clf = LogisticRegression(random_state=0).fit(X_train, y_train)\n",
    "y_hat = clf.predict(X_test)\n",
    "print(y_hat)\n",
    "print(y_test == y_hat)"
   ]
  },
  {
   "cell_type": "code",
   "execution_count": 4,
   "id": "9120589e-2e60-4670-a327-5ba3653cd87b",
   "metadata": {},
   "outputs": [
    {
     "data": {
      "text/plain": [
       "array([[3.31268620e-04, 1.22812781e-01, 8.76855950e-01],\n",
       "       [1.49073654e-02, 9.68438212e-01, 1.66544226e-02],\n",
       "       [9.87117165e-01, 1.28825421e-02, 2.92956825e-07],\n",
       "       [3.90825443e-06, 4.07650404e-02, 9.59231051e-01],\n",
       "       [9.70874163e-01, 2.91252304e-02, 6.06746470e-07],\n",
       "       [6.11405884e-06, 1.15477255e-02, 9.88446160e-01],\n",
       "       [9.82263653e-01, 1.77360426e-02, 3.04444893e-07],\n",
       "       [4.18438945e-03, 7.27172729e-01, 2.68642882e-01],\n",
       "       [2.31528228e-03, 7.61349535e-01, 2.36335183e-01],\n",
       "       [2.61148376e-02, 9.31808632e-01, 4.20765306e-02],\n",
       "       [2.53911901e-04, 3.18879995e-01, 6.80866094e-01],\n",
       "       [9.79354744e-03, 7.84459210e-01, 2.05747242e-01],\n",
       "       [5.77051315e-03, 8.37816950e-01, 1.56412537e-01],\n",
       "       [4.45378308e-03, 7.90211050e-01, 2.05335167e-01],\n",
       "       [5.61604133e-03, 7.61348215e-01, 2.33035743e-01],\n",
       "       [9.83304175e-01, 1.66955728e-02, 2.52473550e-07],\n",
       "       [9.29207747e-03, 7.96124175e-01, 1.94583747e-01],\n",
       "       [1.42542641e-02, 8.99854691e-01, 8.58910451e-02],\n",
       "       [9.65387482e-01, 3.46119198e-02, 5.97993002e-07],\n",
       "       [9.84928764e-01, 1.50708710e-02, 3.65361463e-07],\n",
       "       [1.81528464e-03, 3.38846857e-01, 6.59337858e-01],\n",
       "       [1.39773476e-02, 7.68063970e-01, 2.17958682e-01],\n",
       "       [9.45100524e-01, 5.48964175e-02, 3.05866665e-06],\n",
       "       [9.71979069e-01, 2.80205265e-02, 4.04232280e-07],\n",
       "       [2.32678494e-03, 5.36039006e-01, 4.61634209e-01],\n",
       "       [9.93953604e-01, 6.04634794e-03, 4.79185001e-08],\n",
       "       [9.55242741e-01, 4.47527673e-02, 4.49166574e-06],\n",
       "       [1.43451804e-02, 9.00913635e-01, 8.47411848e-02],\n",
       "       [1.38639833e-01, 8.57530201e-01, 3.82996504e-03],\n",
       "       [9.62403859e-01, 3.75946048e-02, 1.53602463e-06],\n",
       "       [2.16580831e-04, 1.66921606e-01, 8.32861813e-01],\n",
       "       [1.61632565e-02, 7.58264002e-01, 2.25572741e-01],\n",
       "       [9.70005774e-01, 2.99935965e-02, 6.29722584e-07],\n",
       "       [2.19836568e-03, 4.44675503e-01, 5.53126131e-01],\n",
       "       [4.61074431e-05, 7.20570818e-02, 9.27896811e-01],\n",
       "       [5.38320309e-02, 8.99320123e-01, 4.68478457e-02],\n",
       "       [9.53709860e-01, 4.62881130e-02, 2.02668434e-06],\n",
       "       [1.21504132e-03, 4.73001245e-01, 5.25783714e-01],\n",
       "       [2.29200342e-02, 8.63930883e-01, 1.13149083e-01],\n",
       "       [2.66549735e-02, 9.40560619e-01, 3.27844074e-02],\n",
       "       [8.17920204e-05, 1.07430159e-01, 8.92488049e-01],\n",
       "       [9.80111054e-01, 1.98886968e-02, 2.49432716e-07],\n",
       "       [2.74891989e-04, 1.60877606e-01, 8.38847502e-01],\n",
       "       [9.64807020e-01, 3.51906229e-02, 2.35730835e-06],\n",
       "       [9.72718658e-01, 2.72807318e-02, 6.09862333e-07],\n",
       "       [6.77823410e-02, 9.26612252e-01, 5.60540700e-03],\n",
       "       [1.87927303e-04, 1.78137848e-01, 8.21674225e-01],\n",
       "       [1.80166541e-05, 2.52622842e-02, 9.74719699e-01],\n",
       "       [1.11395137e-03, 6.50156318e-01, 3.48729731e-01],\n",
       "       [3.31865344e-05, 1.29064268e-01, 8.70902546e-01],\n",
       "       [3.48716970e-02, 9.44382364e-01, 2.07459387e-02],\n",
       "       [2.37106456e-06, 2.29951334e-02, 9.77002496e-01],\n",
       "       [6.28674541e-03, 6.35153264e-01, 3.58559991e-01],\n",
       "       [4.07133057e-02, 9.43395330e-01, 1.58913647e-02],\n",
       "       [1.43147673e-03, 4.97746690e-01, 5.00821833e-01],\n",
       "       [1.26123161e-03, 5.31714636e-01, 4.67024132e-01],\n",
       "       [1.11600217e-02, 7.09041794e-01, 2.79798185e-01],\n",
       "       [7.27672488e-04, 4.13059392e-01, 5.86212935e-01],\n",
       "       [4.09605825e-03, 7.70875322e-01, 2.25028620e-01],\n",
       "       [4.04039930e-04, 2.19893161e-01, 7.79702799e-01]])"
      ]
     },
     "execution_count": 4,
     "metadata": {},
     "output_type": "execute_result"
    }
   ],
   "source": [
    "clf.predict_proba(X_test)"
   ]
  },
  {
   "cell_type": "code",
   "execution_count": 8,
   "id": "9a64de0b-e364-4d2f-af6f-a698cce15e5a",
   "metadata": {},
   "outputs": [
    {
     "data": {
      "text/plain": [
       "0.9166666666666666"
      ]
     },
     "execution_count": 8,
     "metadata": {},
     "output_type": "execute_result"
    }
   ],
   "source": [
    "acc_val = clf.score(X_test, y_test)\n",
    "acc_val"
   ]
  },
  {
   "cell_type": "code",
   "execution_count": 9,
   "id": "f8b01239-9601-4326-ad42-697efb472d9f",
   "metadata": {},
   "outputs": [
    {
     "data": {
      "text/plain": [
       "0.9777777777777777"
      ]
     },
     "execution_count": 9,
     "metadata": {},
     "output_type": "execute_result"
    }
   ],
   "source": [
    "acc_train = clf.score(X_train, y_train)\n",
    "acc_train"
   ]
  },
  {
   "cell_type": "code",
   "execution_count": 10,
   "id": "7184b166-2f77-42d3-9e9b-7b9a13ec71b1",
   "metadata": {},
   "outputs": [
    {
     "data": {
      "text/plain": [
       "-6.111111111111112"
      ]
     },
     "execution_count": 10,
     "metadata": {},
     "output_type": "execute_result"
    }
   ],
   "source": [
    "(acc_val - acc_train) * 100"
   ]
  },
  {
   "cell_type": "code",
   "execution_count": null,
   "id": "c0621098-b00a-459e-bb94-1a6ab010e444",
   "metadata": {},
   "outputs": [],
   "source": []
  }
 ],
 "metadata": {
  "kernelspec": {
   "display_name": "Python 3 (ipykernel)",
   "language": "python",
   "name": "python3"
  },
  "language_info": {
   "codemirror_mode": {
    "name": "ipython",
    "version": 3
   },
   "file_extension": ".py",
   "mimetype": "text/x-python",
   "name": "python",
   "nbconvert_exporter": "python",
   "pygments_lexer": "ipython3",
   "version": "3.11.2"
  }
 },
 "nbformat": 4,
 "nbformat_minor": 5
}
