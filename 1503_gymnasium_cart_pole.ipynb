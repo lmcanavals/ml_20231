{
  "nbformat": 4,
  "nbformat_minor": 0,
  "metadata": {
    "colab": {
      "provenance": [],
      "authorship_tag": "ABX9TyN87xUZ30jWSAt8R21+hkWr",
      "include_colab_link": true
    },
    "kernelspec": {
      "name": "python3",
      "display_name": "Python 3"
    },
    "language_info": {
      "name": "python"
    }
  },
  "cells": [
    {
      "cell_type": "markdown",
      "metadata": {
        "id": "view-in-github",
        "colab_type": "text"
      },
      "source": [
        "<a href=\"https://colab.research.google.com/github/lmcanavals/ml/blob/main/1503_gymnasium_cart_pole.ipynb\" target=\"_parent\"><img src=\"https://colab.research.google.com/assets/colab-badge.svg\" alt=\"Open In Colab\"/></a>"
      ]
    },
    {
      "cell_type": "code",
      "source": [
        "%%bash\n",
        "sudo apt-get install swig &> /dev/null\n",
        "pip install gymnasium[box2d] &> /dev/null\n",
        "pip install gymnasium[atari] &> /dev/null\n",
        "pip install pyvirtualdisplay &> /dev/null\n",
        "apt-get install -y xvfb python-opengl ffmpeg &> /dev/null"
      ],
      "metadata": {
        "id": "GcUZJIPYFmxm"
      },
      "execution_count": 7,
      "outputs": []
    },
    {
      "cell_type": "code",
      "source": [
        "import gymnasium as gym\n",
        "from gymnasium.wrappers.record_video import RecordVideo\n",
        "import glob\n",
        "import io\n",
        "import base64\n",
        "from IPython.display import HTML\n",
        "from pyvirtualdisplay import Display\n",
        "from IPython import display as ipythondisplay"
      ],
      "metadata": {
        "id": "MiRJYMI9BwdG"
      },
      "execution_count": 8,
      "outputs": []
    },
    {
      "cell_type": "code",
      "source": [
        "display = Display(visible=0, size=(1400, 900))\n",
        "display.start()\n",
        "\n",
        "def show_video():\n",
        "    mp4list = glob.glob('video/*.mp4')\n",
        "    if len(mp4list) > 0:\n",
        "        mp4 = mp4list[0]\n",
        "        video = io.open(mp4, \"r+b\").read()\n",
        "        encoded = base64.b64encode(video)\n",
        "        ipythondisplay.display(HTML(data=f\"\"\"<video alt=\"test\" autoplay\n",
        "        loop controls style=\"height: 400px\">\n",
        "        <source src=\"data:video/mp4;base64,{encoded.decode('ascii')}\"\n",
        "        type=\"video/mp4\" />\n",
        "        </video>\"\"\"))\n",
        "    else:\n",
        "        print(\"No video\")\n",
        "\n",
        "def wrap_env(env):\n",
        "    env = RecordVideo(env, \"./video\")\n",
        "    return env"
      ],
      "metadata": {
        "id": "Y6GBhqVGJ7Yv"
      },
      "execution_count": 9,
      "outputs": []
    },
    {
      "cell_type": "code",
      "source": [
        "import  random\n",
        "import numpy as np\n",
        "from collections import deque\n",
        "from tensorflow import keras\n",
        "from tensorflow.keras.models import Sequential\n",
        "from tensorflow.keras.layers import Dense\n",
        "from tensorflow.keras.optimizers import Adam"
      ],
      "metadata": {
        "colab": {
          "base_uri": "https://localhost:8080/"
        },
        "id": "jC60j5Dk65oA",
        "outputId": "0800a773-8c55-4b10-c013-577302335620"
      },
      "execution_count": 11,
      "outputs": [
        {
          "output_type": "stream",
          "name": "stderr",
          "text": [
            "/usr/local/lib/python3.10/dist-packages/ipykernel/ipkernel.py:283: DeprecationWarning: `should_run_async` will not call `transform_cell` automatically in the future. Please pass the result to `transformed_cell` argument and any exception that happen during thetransform in `preprocessing_exc_tuple` in IPython 7.17 and above.\n",
            "  and should_run_async(code)\n"
          ]
        }
      ]
    },
    {
      "cell_type": "code",
      "source": [
        "from statistics import mean\n",
        "import matplotlib\n",
        "matplotlib.use('Agg')\n",
        "import matplotlib.pyplot as plt\n",
        "import os\n",
        "import csv\n",
        "\n",
        "SCORES_CSV_PATH = \"./scores/scores.csv\"\n",
        "SCORES_PNG_PATH = \"./scores/scores.png\"\n",
        "SOLVED_CSV_PATH = \"./scores/solved.csv\"\n",
        "SOLVED_PNG_PATH = \"./scores/solved.png\"\n",
        "AVERAGE_SCORE_TO_SOLVE = 195\n",
        "CONSECUTIVE_RUNS_TO_SOLVE = 100\n",
        "\n",
        "\n",
        "class ScoreLogger:\n",
        "\n",
        "    def __init__(self, env_name):\n",
        "        self.scores = deque(maxlen=CONSECUTIVE_RUNS_TO_SOLVE)\n",
        "        self.env_name = env_name\n",
        "\n",
        "        if os.path.exists(SCORES_PNG_PATH):\n",
        "            os.remove(SCORES_PNG_PATH)\n",
        "        if os.path.exists(SCORES_CSV_PATH):\n",
        "            os.remove(SCORES_CSV_PATH)\n",
        "\n",
        "    def add_score(self, score, run):\n",
        "        self._save_csv(SCORES_CSV_PATH, score)\n",
        "        self._save_png(input_path=SCORES_CSV_PATH,\n",
        "                       output_path=SCORES_PNG_PATH,\n",
        "                       x_label=\"runs\",\n",
        "                       y_label=\"scores\",\n",
        "                       average_of_n_last=CONSECUTIVE_RUNS_TO_SOLVE,\n",
        "                       show_goal=True,\n",
        "                       show_trend=True,\n",
        "                       show_legend=True)\n",
        "        self.scores.append(score)\n",
        "        mean_score = mean(self.scores)\n",
        "        print(\"Scores: (min: \" + str(min(self.scores)) + \", avg: \" + str(mean_score) + \", max: \" + str(max(self.scores)) + \")\\n\")\n",
        "        if mean_score >= AVERAGE_SCORE_TO_SOLVE and len(self.scores) >= CONSECUTIVE_RUNS_TO_SOLVE:\n",
        "            solve_score = run-CONSECUTIVE_RUNS_TO_SOLVE\n",
        "            print(\"Solved in \" + str(solve_score) + \" runs, \" + str(run) + \" total runs.\")\n",
        "            self._save_csv(SOLVED_CSV_PATH, solve_score)\n",
        "            self._save_png(input_path=SOLVED_CSV_PATH,\n",
        "                           output_path=SOLVED_PNG_PATH,\n",
        "                           x_label=\"trials\",\n",
        "                           y_label=\"steps before solve\",\n",
        "                           average_of_n_last=None,\n",
        "                           show_goal=False,\n",
        "                           show_trend=False,\n",
        "                           show_legend=False)\n",
        "            exit()\n",
        "\n",
        "    def _save_png(self, input_path, output_path, x_label, y_label, average_of_n_last, show_goal, show_trend, show_legend):\n",
        "        x = []\n",
        "        y = []\n",
        "        with open(input_path, \"r\") as scores:\n",
        "            reader = csv.reader(scores)\n",
        "            data = list(reader)\n",
        "            for i in range(0, len(data)):\n",
        "                x.append(int(i))\n",
        "                y.append(int(data[i][0]))\n",
        "\n",
        "        plt.subplots()\n",
        "        plt.plot(x, y, label=\"score per run\")\n",
        "\n",
        "        average_range = average_of_n_last if average_of_n_last is not None else len(x)\n",
        "        plt.plot(x[-average_range:], [np.mean(y[-average_range:])] * len(y[-average_range:]), linestyle=\"--\", label=\"last \" + str(average_range) + \" runs average\")\n",
        "\n",
        "        if show_goal:\n",
        "            plt.plot(x, [AVERAGE_SCORE_TO_SOLVE] * len(x), linestyle=\":\", label=str(AVERAGE_SCORE_TO_SOLVE) + \" score average goal\")\n",
        "\n",
        "        if show_trend and len(x) > 1:\n",
        "            trend_x = x[1:]\n",
        "            z = np.polyfit(np.array(trend_x), np.array(y[1:]), 1)\n",
        "            p = np.poly1d(z)\n",
        "            plt.plot(trend_x, p(trend_x), linestyle=\"-.\",  label=\"trend\")\n",
        "\n",
        "        plt.title(self.env_name)\n",
        "        plt.xlabel(x_label)\n",
        "        plt.ylabel(y_label)\n",
        "\n",
        "        if show_legend:\n",
        "            plt.legend(loc=\"upper left\")\n",
        "\n",
        "        plt.savefig(output_path, bbox_inches=\"tight\")\n",
        "        plt.close()\n",
        "\n",
        "    def _save_csv(self, path, score):\n",
        "        if not os.path.exists(path):\n",
        "            with open(path, \"w\"):\n",
        "                pass\n",
        "        scores_file = open(path, \"a\")\n",
        "        with scores_file:\n",
        "            writer = csv.writer(scores_file)\n",
        "            writer.writerow([score])"
      ],
      "metadata": {
        "id": "AyVSqWSv_n-h"
      },
      "execution_count": 14,
      "outputs": []
    },
    {
      "cell_type": "code",
      "source": [
        "ENV_NAME = \"LunarLander-v2\"\n",
        "\n",
        "GAMMA = 0.95\n",
        "LEARNING_RATE = 0.001\n",
        "\n",
        "MEMORY_SIZE = 1_000_000\n",
        "BATCH_SIZE = 20\n",
        "\n",
        "EXPLORATION_MAX = 1.0\n",
        "EXPLORATION_MIN = 0.01\n",
        "EXPLORATION_DECAY = 0.995"
      ],
      "metadata": {
        "id": "jXaayCnd3KaM"
      },
      "execution_count": 45,
      "outputs": []
    },
    {
      "cell_type": "code",
      "source": [
        "#import pdb\n",
        "\n",
        "class DQNSolver:\n",
        "    def __init__(self, observation_space, action_space):\n",
        "        #pdb.set_trace()\n",
        "        self.exploration_rate = EXPLORATION_MAX\n",
        "\n",
        "        self.action_space = action_space\n",
        "        self.memory = deque(maxlen=MEMORY_SIZE)\n",
        "\n",
        "        self.model = Sequential([\n",
        "            Dense(24, input_shape=(observation_space,), activation=\"relu\"),\n",
        "            Dense(24, activation=\"relu\"),\n",
        "            Dense(self.action_space, activation=\"linear\")\n",
        "        ])\n",
        "        self.model.compile(\n",
        "            loss=\"mse\",\n",
        "            optimizer=Adam(learning_rate=LEARNING_RATE)\n",
        "        )\n",
        "\n",
        "    def remember(self, state, action, reward, next_state, done):\n",
        "        self.memory.append((state, action, reward, next_state, done))\n",
        "\n",
        "    def act(self, state):\n",
        "        if np.random.rand() < self.exploration_rate:\n",
        "            return random.randrange(self.action_space)\n",
        "        q_values = self.model.predict(state)\n",
        "        return np.argmax(q_values[0])\n",
        "\n",
        "    def experience_replay(self):\n",
        "        if len(self.memory) < BATCH_SIZE:\n",
        "            return\n",
        "        batch = random.sample(self.memory, BATCH_SIZE)\n",
        "        for state, action, reward, state_next, terminal in batch:\n",
        "            q_update = reward\n",
        "            if not terminal:\n",
        "                pred0 = self.model.predict(state_next)\n",
        "                q_update = (reward + GAMMA * np.amax(pred0[0]))\n",
        "            q_values = self.model.predict(state)\n",
        "            q_values[0][action] = q_update\n",
        "            self.model.fit(state, q_values, verbose=0)\n",
        "        self.exploration_rate *= EXPLORATION_DECAY\n",
        "        self.exploration_rate = max(EXPLORATION_MIN, self.exploration_rate)"
      ],
      "metadata": {
        "id": "HKtIUNuM63FT"
      },
      "execution_count": 46,
      "outputs": []
    },
    {
      "cell_type": "code",
      "source": [
        "!rm -rf ./video/*"
      ],
      "metadata": {
        "id": "3wNDJhXK02id"
      },
      "execution_count": 47,
      "outputs": []
    },
    {
      "cell_type": "code",
      "source": [
        "env = wrap_env(gym.make(ENV_NAME, render_mode=\"rgb_array\"))\n",
        "score_logger = ScoreLogger(ENV_NAME)\n",
        "observation_space = env.observation_space.shape[0]\n",
        "action_space = env.action_space.n\n",
        "\n",
        "print(observation_space)\n",
        "print(action_space)"
      ],
      "metadata": {
        "colab": {
          "base_uri": "https://localhost:8080/"
        },
        "id": "n6C9A0Ai-rc8",
        "outputId": "713f7569-7f70-4620-f375-5411e37d3924"
      },
      "execution_count": 48,
      "outputs": [
        {
          "output_type": "stream",
          "name": "stdout",
          "text": [
            "8\n",
            "4\n"
          ]
        },
        {
          "output_type": "stream",
          "name": "stderr",
          "text": [
            "/usr/local/lib/python3.10/dist-packages/gymnasium/wrappers/record_video.py:87: UserWarning: \u001b[33mWARN: Overwriting existing videos at /content/video folder (try specifying a different `video_folder` for the `RecordVideo` wrapper if this is not desired)\u001b[0m\n",
            "  logger.warn(\n"
          ]
        }
      ]
    },
    {
      "cell_type": "code",
      "source": [
        "dqn_solver = DQNSolver(observation_space, action_space)\n",
        "run = 0\n",
        "while True:\n",
        "    run += 1\n",
        "    state = env.reset()\n",
        "    state = np.array(state[0]).reshape((1, observation_space))\n",
        "    step = 0\n",
        "    while True:\n",
        "        step += 1\n",
        "        action = dqn_solver.act(state)\n",
        "        state_next, reward, terminal, truncated, info = env.step(action)\n",
        "        terminal = terminal or truncated\n",
        "        reward = reward if not terminal else -reward\n",
        "        state_next = np.array(state_next).reshape((1, observation_space))\n",
        "        dqn_solver.remember(state, action, reward, state_next, terminal)\n",
        "        state = state_next\n",
        "        if terminal:\n",
        "            print(f\"Run {run}: exploration: {dqn_solver.exploration_rate}, score: {step}\")\n",
        "            #score_logger.add_score(step, run)\n",
        "            break\n",
        "        dqn_solver.experience_replay()"
      ],
      "metadata": {
        "colab": {
          "base_uri": "https://localhost:8080/"
        },
        "id": "_VX_Q7PAAUMu",
        "outputId": "25b0fffb-d5f4-4d3a-e750-c05b8dbaf590"
      },
      "execution_count": null,
      "outputs": [
        {
          "output_type": "stream",
          "name": "stdout",
          "text": [
            "1/1 [==============================] - 0s 64ms/step\n",
            "1/1 [==============================] - 0s 48ms/step\n",
            "1/1 [==============================] - 0s 72ms/step\n",
            "1/1 [==============================] - 0s 43ms/step\n",
            "1/1 [==============================] - 0s 46ms/step\n",
            "1/1 [==============================] - 0s 49ms/step\n",
            "1/1 [==============================] - 0s 38ms/step\n",
            "1/1 [==============================] - 0s 44ms/step\n",
            "1/1 [==============================] - 0s 63ms/step\n",
            "1/1 [==============================] - 0s 50ms/step\n",
            "1/1 [==============================] - 0s 36ms/step\n",
            "1/1 [==============================] - 0s 45ms/step\n",
            "1/1 [==============================] - 0s 61ms/step\n",
            "1/1 [==============================] - 0s 38ms/step\n",
            "1/1 [==============================] - 0s 36ms/step\n",
            "1/1 [==============================] - 0s 39ms/step\n",
            "1/1 [==============================] - 0s 48ms/step\n",
            "1/1 [==============================] - 0s 40ms/step\n",
            "1/1 [==============================] - 0s 54ms/step\n",
            "1/1 [==============================] - 0s 53ms/step\n",
            "1/1 [==============================] - 0s 35ms/step\n",
            "1/1 [==============================] - 0s 36ms/step\n",
            "1/1 [==============================] - 0s 32ms/step\n",
            "1/1 [==============================] - 0s 30ms/step\n",
            "1/1 [==============================] - 0s 29ms/step\n",
            "1/1 [==============================] - 0s 34ms/step\n",
            "1/1 [==============================] - 0s 34ms/step\n",
            "1/1 [==============================] - 0s 30ms/step\n",
            "1/1 [==============================] - 0s 29ms/step\n",
            "1/1 [==============================] - 0s 33ms/step\n",
            "1/1 [==============================] - 0s 30ms/step\n",
            "1/1 [==============================] - 0s 31ms/step\n",
            "1/1 [==============================] - 0s 31ms/step\n",
            "1/1 [==============================] - 0s 19ms/step\n",
            "1/1 [==============================] - 0s 21ms/step\n",
            "1/1 [==============================] - 0s 20ms/step\n",
            "1/1 [==============================] - 0s 20ms/step\n",
            "1/1 [==============================] - 0s 22ms/step\n",
            "1/1 [==============================] - 0s 20ms/step\n",
            "1/1 [==============================] - 0s 21ms/step\n",
            "1/1 [==============================] - 0s 21ms/step\n",
            "1/1 [==============================] - 0s 21ms/step\n",
            "1/1 [==============================] - 0s 20ms/step\n",
            "1/1 [==============================] - 0s 21ms/step\n",
            "1/1 [==============================] - 0s 23ms/step\n",
            "1/1 [==============================] - 0s 21ms/step\n",
            "1/1 [==============================] - 0s 21ms/step\n",
            "1/1 [==============================] - 0s 20ms/step\n",
            "1/1 [==============================] - 0s 20ms/step\n",
            "1/1 [==============================] - 0s 20ms/step\n",
            "1/1 [==============================] - 0s 21ms/step\n",
            "1/1 [==============================] - 0s 20ms/step\n",
            "1/1 [==============================] - 0s 21ms/step\n",
            "1/1 [==============================] - 0s 21ms/step\n",
            "1/1 [==============================] - 0s 20ms/step\n",
            "1/1 [==============================] - 0s 19ms/step\n",
            "1/1 [==============================] - 0s 21ms/step\n",
            "1/1 [==============================] - 0s 20ms/step\n"
          ]
        }
      ]
    },
    {
      "cell_type": "code",
      "source": [
        "show_video()"
      ],
      "metadata": {
        "id": "Z0_jHHOgBE06"
      },
      "execution_count": null,
      "outputs": []
    },
    {
      "cell_type": "code",
      "source": [],
      "metadata": {
        "id": "Df7sxpBPHVUd"
      },
      "execution_count": null,
      "outputs": []
    }
  ]
}