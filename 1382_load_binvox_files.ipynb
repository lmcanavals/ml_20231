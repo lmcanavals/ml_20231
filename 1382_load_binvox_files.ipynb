{
  "nbformat": 4,
  "nbformat_minor": 0,
  "metadata": {
    "colab": {
      "provenance": [],
      "authorship_tag": "ABX9TyObHl4rV//tHtAK5ZlKEZef",
      "include_colab_link": true
    },
    "kernelspec": {
      "name": "python3",
      "display_name": "Python 3"
    },
    "language_info": {
      "name": "python"
    }
  },
  "cells": [
    {
      "cell_type": "markdown",
      "metadata": {
        "id": "view-in-github",
        "colab_type": "text"
      },
      "source": [
        "<a href=\"https://colab.research.google.com/github/lmcanavals/ml/blob/main/1382_load_binvox_files.ipynb\" target=\"_parent\"><img src=\"https://colab.research.google.com/assets/colab-badge.svg\" alt=\"Open In Colab\"/></a>"
      ]
    },
    {
      "cell_type": "code",
      "source": [
        "%%bash\n",
        "curl -O https://raw.githubusercontent.com/dimatura/binvox-rw-py/public/binvox_rw.py\n",
        "curl -O https://raw.githubusercontent.com/lmcanavals/ml/main/test.zip\n",
        "curl -O https://raw.githubusercontent.com/lmcanavals/ml/main/train.zip\n",
        "unzip -q test.zip\n",
        "unzip -q train.zip"
      ],
      "metadata": {
        "id": "7CuhaU5YFNmH",
        "colab": {
          "base_uri": "https://localhost:8080/"
        },
        "outputId": "235cbadc-93dc-4578-8259-45d391977c34"
      },
      "execution_count": 2,
      "outputs": [
        {
          "output_type": "stream",
          "name": "stderr",
          "text": [
            "  % Total    % Received % Xferd  Average Speed   Time    Time     Time  Current\n",
            "                                 Dload  Upload   Total   Spent    Left  Speed\n",
            "\r  0     0    0     0    0     0      0      0 --:--:-- --:--:-- --:--:--     0\r100  9265  100  9265    0     0   161k      0 --:--:-- --:--:-- --:--:--  161k\n",
            "  % Total    % Received % Xferd  Average Speed   Time    Time     Time  Current\n",
            "                                 Dload  Upload   Total   Spent    Left  Speed\n",
            "\r  0     0    0     0    0     0      0      0 --:--:-- --:--:-- --:--:--     0\r100  266k  100  266k    0     0  1217k      0 --:--:-- --:--:-- --:--:-- 1217k\n",
            "  % Total    % Received % Xferd  Average Speed   Time    Time     Time  Current\n",
            "                                 Dload  Upload   Total   Spent    Left  Speed\n",
            "\r  0     0    0     0    0     0      0      0 --:--:-- --:--:-- --:--:--     0\r100 1335k  100 1335k    0     0  4718k      0 --:--:-- --:--:-- --:--:-- 4718k\n"
          ]
        }
      ]
    },
    {
      "cell_type": "code",
      "source": [
        "import numpy as np\n",
        "import binvox_rw\n",
        "import os"
      ],
      "metadata": {
        "id": "-QzH4iFnC15F"
      },
      "execution_count": 3,
      "outputs": []
    },
    {
      "cell_type": "code",
      "source": [
        "def dothething(foldername):\n",
        "    files = os.listdir(foldername)\n",
        "    voxels = np.zeros((len(files), 32, 32, 32), dtype=bool)\n",
        "    i = 0\n",
        "    j = 0\n",
        "    labels = {}\n",
        "    y = np.zeros((len(files)), dtype=int)\n",
        "    for file in files:\n",
        "        key = file.split(\"_\")[0]\n",
        "        if not key in labels:\n",
        "            labels[key] = j\n",
        "            j += 1\n",
        "        with open(f\"{foldername}/{file}\", \"rb\") as f:\n",
        "            m1 = binvox_rw.read_as_3d_array(f)\n",
        "            voxels[i] = m1.data\n",
        "            y[i] = labels[key]\n",
        "            i += 1\n",
        "    return voxels, y"
      ],
      "metadata": {
        "id": "M_n9aw38F5y-"
      },
      "execution_count": 4,
      "outputs": []
    },
    {
      "cell_type": "code",
      "source": [
        "x_train, y_train = dothething(\"train\")\n",
        "x_test, y_test = dothething(\"test\")\n",
        "print(x_train.shape, y_train.shape)\n",
        "print(x_test.shape, y_test.shape)"
      ],
      "metadata": {
        "colab": {
          "base_uri": "https://localhost:8080/"
        },
        "id": "EVbzhIxfGIDH",
        "outputId": "f302c2a2-b6fe-494c-b8ae-0fb8a2ed3fba"
      },
      "execution_count": 5,
      "outputs": [
        {
          "output_type": "stream",
          "name": "stdout",
          "text": [
            "(3591, 32, 32, 32) (3591,)\n",
            "(764, 32, 32, 32) (764,)\n"
          ]
        }
      ]
    },
    {
      "cell_type": "code",
      "source": [],
      "metadata": {
        "id": "sz0_2zyCJZCb"
      },
      "execution_count": null,
      "outputs": []
    }
  ]
}