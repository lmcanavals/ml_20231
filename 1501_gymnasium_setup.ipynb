{
  "nbformat": 4,
  "nbformat_minor": 0,
  "metadata": {
    "colab": {
      "provenance": [],
      "authorship_tag": "ABX9TyOXzY3JExDGiwpP9vCOabt1",
      "include_colab_link": true
    },
    "kernelspec": {
      "name": "python3",
      "display_name": "Python 3"
    },
    "language_info": {
      "name": "python"
    }
  },
  "cells": [
    {
      "cell_type": "markdown",
      "metadata": {
        "id": "view-in-github",
        "colab_type": "text"
      },
      "source": [
        "<a href=\"https://colab.research.google.com/github/lmcanavals/ml/blob/main/1501_gymnasium_setup.ipynb\" target=\"_parent\"><img src=\"https://colab.research.google.com/assets/colab-badge.svg\" alt=\"Open In Colab\"/></a>"
      ]
    },
    {
      "cell_type": "code",
      "source": [
        "!sudo apt install swig"
      ],
      "metadata": {
        "id": "GcUZJIPYFmxm"
      },
      "execution_count": null,
      "outputs": []
    },
    {
      "cell_type": "code",
      "execution_count": null,
      "metadata": {
        "id": "iVm27PbUAKFt"
      },
      "outputs": [],
      "source": [
        "!pip install gymnasium[box2d]"
      ]
    },
    {
      "cell_type": "code",
      "source": [
        "import gymnasium as gym"
      ],
      "metadata": {
        "id": "8pVRcZ44Am0o"
      },
      "execution_count": 2,
      "outputs": []
    },
    {
      "cell_type": "code",
      "source": [
        "def query_environment(name):\n",
        "    env = gym.make(name)\n",
        "    spec = gym.spec(name)\n",
        "    print(f\"Action Space: {env.action_space}\")\n",
        "    print(f\"Observation Space: {env.observation_space}\")\n",
        "    print(f\"Max Episodes Space: {spec.max_episode_steps}\")\n",
        "    print(f\"Anondeterministice: {spec.nondeterministic}\")\n",
        "    print(f\"Reward Range: {env.reward_range}\")\n",
        "    print(f\"Reward Threshold: {spec.reward_threshold}\")"
      ],
      "metadata": {
        "id": "TMXuNqetHS_V"
      },
      "execution_count": 13,
      "outputs": []
    },
    {
      "cell_type": "code",
      "source": [
        "query_environment(\"LunarLander-v2\")"
      ],
      "metadata": {
        "colab": {
          "base_uri": "https://localhost:8080/"
        },
        "id": "_TmHcsMoH8Xa",
        "outputId": "4ea59f67-9c65-4431-eca3-3669c7ee84c7"
      },
      "execution_count": 14,
      "outputs": [
        {
          "output_type": "stream",
          "name": "stdout",
          "text": [
            "Action Space: Discrete(4)\n",
            "Observation Space: Box([-90.        -90.         -5.         -5.         -3.1415927  -5.\n",
            "  -0.         -0.       ], [90.        90.         5.         5.         3.1415927  5.\n",
            "  1.         1.       ], (8,), float32)\n",
            "Max Episodes Space: 1000\n",
            "Anondeterministice: False\n",
            "Reward Range: (-inf, inf)\n",
            "Reward Threshold: 200\n"
          ]
        }
      ]
    },
    {
      "cell_type": "code",
      "source": [
        "query_environment(\"MountainCar-v0\")"
      ],
      "metadata": {
        "colab": {
          "base_uri": "https://localhost:8080/"
        },
        "id": "FqcFelMIIDNo",
        "outputId": "ce392732-fdcf-4a8f-f78a-c0cc77f0e05e"
      },
      "execution_count": 15,
      "outputs": [
        {
          "output_type": "stream",
          "name": "stdout",
          "text": [
            "Action Space: Discrete(3)\n",
            "Observation Space: Box([-1.2  -0.07], [0.6  0.07], (2,), float32)\n",
            "Max Episodes Space: 200\n",
            "Anondeterministice: False\n",
            "Reward Range: (-inf, inf)\n",
            "Reward Threshold: -110.0\n"
          ]
        }
      ]
    },
    {
      "cell_type": "code",
      "source": [
        "query_environment(\"CartPole-v1\")"
      ],
      "metadata": {
        "colab": {
          "base_uri": "https://localhost:8080/"
        },
        "id": "a9cTrhJMIKL6",
        "outputId": "8fdd991d-7678-4308-fb67-18ba1e5bbb4c"
      },
      "execution_count": 16,
      "outputs": [
        {
          "output_type": "stream",
          "name": "stdout",
          "text": [
            "Action Space: Discrete(2)\n",
            "Observation Space: Box([-4.8000002e+00 -3.4028235e+38 -4.1887903e-01 -3.4028235e+38], [4.8000002e+00 3.4028235e+38 4.1887903e-01 3.4028235e+38], (4,), float32)\n",
            "Max Episodes Space: 500\n",
            "Anondeterministice: False\n",
            "Reward Range: (-inf, inf)\n",
            "Reward Threshold: 475.0\n"
          ]
        }
      ]
    },
    {
      "cell_type": "code",
      "source": [
        "!pip install pyvirtualdisplay\n",
        "!apt-get install -y xvfb python-opengl ffmpeg"
      ],
      "metadata": {
        "id": "_n5QUwrgIRrm"
      },
      "execution_count": null,
      "outputs": []
    },
    {
      "cell_type": "code",
      "source": [
        "!apt-get update\n",
        "!apt-get install cmake\n",
        "!pip install -U setuptools\n",
        "!pip install ez_setup"
      ],
      "metadata": {
        "id": "XvIlhhOlI9Pg"
      },
      "execution_count": null,
      "outputs": []
    },
    {
      "cell_type": "code",
      "source": [
        "import gymnasium as gym\n",
        "from gymnasium.wrappers.record_video import RecordVideo\n",
        "import glob\n",
        "import io\n",
        "import base64\n",
        "from IPython.display import HTML\n",
        "from pyvirtualdisplay import Display\n",
        "from IPython import display as ipythondisplay"
      ],
      "metadata": {
        "colab": {
          "base_uri": "https://localhost:8080/"
        },
        "id": "MiRJYMI9BwdG",
        "outputId": "48dec230-531f-4f22-ccc2-5b3826e36cc2"
      },
      "execution_count": 25,
      "outputs": [
        {
          "output_type": "stream",
          "name": "stderr",
          "text": [
            "/usr/local/lib/python3.10/dist-packages/ipykernel/ipkernel.py:283: DeprecationWarning: `should_run_async` will not call `transform_cell` automatically in the future. Please pass the result to `transformed_cell` argument and any exception that happen during thetransform in `preprocessing_exc_tuple` in IPython 7.17 and above.\n",
            "  and should_run_async(code)\n"
          ]
        }
      ]
    },
    {
      "cell_type": "code",
      "source": [
        "display = Display(visible=0, size=(1400, 900))\n",
        "display.start()\n",
        "\n",
        "def show_video():\n",
        "    mp4list = glob.glob('video/*.mp4')\n",
        "    if len(mp4list) > 0:\n",
        "        mp4 = mp4list[0]\n",
        "        video = io.open(mp4, \"r+b\").read()\n",
        "        encoded = base64.b64encode(video)\n",
        "        ipythondisplay.display(HTML(data=f\"\"\"<video alt=\"test\" autoplay\n",
        "        loop controls style=\"height: 400px\">\n",
        "        <source src=\"data:video/mp4;base64,{encoded.decode('ascii')}\"\n",
        "        type=\"video/mp4\" />\n",
        "        </video>\"\"\"))\n",
        "    else:\n",
        "        print(\"No video\")\n",
        "\n",
        "def wrap_env(env):\n",
        "    env = RecordVideo(env, \"./video\")\n",
        "    return env"
      ],
      "metadata": {
        "id": "Y6GBhqVGJ7Yv"
      },
      "execution_count": 28,
      "outputs": []
    },
    {
      "cell_type": "code",
      "source": [
        "env = wrap_env(gym.make(\"LunarLander-v2\", render_mode=\"rgb_array\"))\n",
        "observation, info = env.reset(seed=17)\n",
        "for _ in range(1000):\n",
        "    action = env.action_space.sample()\n",
        "    observation, reward, terminated, truncated, info = env.step(action)\n",
        "    print(reward)\n",
        "    if terminated or truncated:\n",
        "        ovservation, info = env.reset()\n",
        "env.close()"
      ],
      "metadata": {
        "id": "biYLu7TjA67-"
      },
      "execution_count": null,
      "outputs": []
    },
    {
      "cell_type": "code",
      "source": [
        "show_video()"
      ],
      "metadata": {
        "colab": {
          "base_uri": "https://localhost:8080/",
          "height": 421
        },
        "id": "3bZ0SJNfMG3q",
        "outputId": "49fc6c45-00f4-4a51-d428-6de25c4f8abe"
      },
      "execution_count": 39,
      "outputs": [
        {
          "output_type": "display_data",
          "data": {
            "text/plain": [
              "<IPython.core.display.HTML object>"
            ],
            "text/html": [
              "<video alt=\"test\" autoplay\n",
              "        loop controls style=\"height: 400px\">\n",
              "        <source src=\"data:video/mp4;base64,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\"\n",
              "        type=\"video/mp4\" />\n",
              "        </video>"
            ]
          },
          "metadata": {}
        }
      ]
    },
    {
      "cell_type": "code",
      "source": [],
      "metadata": {
        "id": "mj5zpX1fMxi9"
      },
      "execution_count": null,
      "outputs": []
    }
  ]
}